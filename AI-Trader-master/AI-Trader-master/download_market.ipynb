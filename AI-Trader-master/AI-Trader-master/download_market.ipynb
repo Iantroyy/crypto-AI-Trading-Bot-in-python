{
  "nbformat": 4,
  "nbformat_minor": 0,
  "metadata": {
    "colab": {
      "name": "download_market.ipynb",
      "version": "0.3.2",
      "provenance": [],
      "collapsed_sections": [],
      "include_colab_link": true
    },
    "language_info": {
      "codemirror_mode": {
        "name": "ipython",
        "version": 3
      },
      "file_extension": ".py",
      "mimetype": "text/x-python",
      "name": "python",
      "nbconvert_exporter": "python",
      "pygments_lexer": "ipython3",
      "version": "3.7.3"
    },
    "kernelspec": {
      "display_name": "aitrader",
      "language": "python",
      "name": "aitrader"
    }
  },
  "cells": [
    {
      "cell_type": "markdown",
      "metadata": {
        "id": "view-in-github",
        "colab_type": "text"
      },
      "source": [
        "<a href=\"https://colab.research.google.com/github/TheDoctorAI/AI-Trader/blob/master/download_market.ipynb\" target=\"_parent\"><img src=\"https://colab.research.google.com/assets/colab-badge.svg\" alt=\"Open In Colab\"/></a>"
      ]
    },
    {
      "metadata": {
        "id": "XoNa55XP2jHQ",
        "colab_type": "code",
        "outputId": "7792c20e-d588-4662-f3d4-e8f4343f88e6",
        "colab": {
          "base_uri": "https://localhost:8080/",
          "height": 347
        }
      },
      "cell_type": "code",
      "source": [
        "!pip install ccxt pprint\n",
        "# -*- coding: utf-8 -*-\n",
        "import ccxt\n",
        "from datetime import datetime\n",
        "import csv\n",
        "from google.colab import drive\n",
        "from pprint import pprint"
      ],
      "execution_count": 1,
      "outputs": [
        {
          "output_type": "stream",
          "text": [
            "Requirement already satisfied: ccxt in /usr/local/lib/python3.6/dist-packages (1.18.492)\n",
            "Requirement already satisfied: pprint in /usr/local/lib/python3.6/dist-packages (0.1)\n",
            "Requirement already satisfied: aiodns==1.1.1; python_version >= \"3.5.2\" in /usr/local/lib/python3.6/dist-packages (from ccxt) (1.1.1)\n",
            "Requirement already satisfied: setuptools>=38.5.1 in /usr/local/lib/python3.6/dist-packages (from ccxt) (40.9.0)\n",
            "Requirement already satisfied: yarl==1.1.0; python_version >= \"3.5.2\" in /usr/local/lib/python3.6/dist-packages (from ccxt) (1.1.0)\n",
            "Requirement already satisfied: certifi>=2018.1.18 in /usr/local/lib/python3.6/dist-packages (from ccxt) (2019.3.9)\n",
            "Requirement already satisfied: requests>=2.18.4 in /usr/local/lib/python3.6/dist-packages (from ccxt) (2.21.0)\n",
            "Requirement already satisfied: aiohttp>=3.0.1; python_version >= \"3.5.2\" in /usr/local/lib/python3.6/dist-packages (from ccxt) (3.5.4)\n",
            "Requirement already satisfied: pycares>=1.0.0 in /usr/local/lib/python3.6/dist-packages (from aiodns==1.1.1; python_version >= \"3.5.2\"->ccxt) (3.0.0)\n",
            "Requirement already satisfied: multidict>=4.0 in /usr/local/lib/python3.6/dist-packages (from yarl==1.1.0; python_version >= \"3.5.2\"->ccxt) (4.5.2)\n",
            "Requirement already satisfied: idna>=2.0 in /usr/local/lib/python3.6/dist-packages (from yarl==1.1.0; python_version >= \"3.5.2\"->ccxt) (2.8)\n",
            "Requirement already satisfied: urllib3<1.25,>=1.21.1 in /usr/local/lib/python3.6/dist-packages (from requests>=2.18.4->ccxt) (1.24.2)\n",
            "Requirement already satisfied: chardet<3.1.0,>=3.0.2 in /usr/local/lib/python3.6/dist-packages (from requests>=2.18.4->ccxt) (3.0.4)\n",
            "Requirement already satisfied: async-timeout<4.0,>=3.0 in /usr/local/lib/python3.6/dist-packages (from aiohttp>=3.0.1; python_version >= \"3.5.2\"->ccxt) (3.0.1)\n",
            "Requirement already satisfied: typing-extensions>=3.6.5; python_version < \"3.7\" in /usr/local/lib/python3.6/dist-packages (from aiohttp>=3.0.1; python_version >= \"3.5.2\"->ccxt) (3.7.2)\n",
            "Requirement already satisfied: attrs>=17.3.0 in /usr/local/lib/python3.6/dist-packages (from aiohttp>=3.0.1; python_version >= \"3.5.2\"->ccxt) (19.1.0)\n",
            "Requirement already satisfied: idna-ssl>=1.0; python_version < \"3.7\" in /usr/local/lib/python3.6/dist-packages (from aiohttp>=3.0.1; python_version >= \"3.5.2\"->ccxt) (1.1.0)\n",
            "Requirement already satisfied: cffi>=1.5.0 in /usr/local/lib/python3.6/dist-packages (from pycares>=1.0.0->aiodns==1.1.1; python_version >= \"3.5.2\"->ccxt) (1.12.3)\n",
            "Requirement already satisfied: pycparser in /usr/local/lib/python3.6/dist-packages (from cffi>=1.5.0->pycares>=1.0.0->aiodns==1.1.1; python_version >= \"3.5.2\"->ccxt) (2.19)\n"
          ],
          "name": "stdout"
        }
      ]
    },
    {
      "metadata": {
        "id": "xphgSukr3eSg",
        "colab_type": "code",
        "outputId": "5dd68d72-8f13-4f1f-93ed-87eb5bc3f6bc",
        "colab": {
          "base_uri": "https://localhost:8080/",
          "height": 34
        }
      },
      "cell_type": "code",
      "source": [
        "drive.mount('/content/gdrive')"
      ],
      "execution_count": 2,
      "outputs": [
        {
          "output_type": "stream",
          "text": [
            "Drive already mounted at /content/gdrive; to attempt to forcibly remount, call drive.mount(\"/content/gdrive\", force_remount=True).\n"
          ],
          "name": "stdout"
        }
      ]
    },
    {
      "metadata": {
        "id": "N00eVsAj2jHi",
        "colab_type": "code",
        "colab": {}
      },
      "cell_type": "code",
      "source": [
        "def write_to_csv(filename, data):\n",
        "    with open(filename, mode='w') as output_file:\n",
        "        output_file.write(\"Date,Open,High,Low,Close,Adj Close,Volume\\n\")\n",
        "        csv_writer = csv.writer(output_file, delimiter=',', quotechar='\"', quoting=csv.QUOTE_MINIMAL)\n",
        "        csv_writer.writerows(data)"
      ],
      "execution_count": 0,
      "outputs": []
    },
    {
      "metadata": {
        "id": "_8d83Swy2jHs",
        "colab_type": "code",
        "colab": {}
      },
      "cell_type": "code",
      "source": [
        "def scrape_ohlcv(exchange, max_retries, symbol, timeframe, since, limit):\n",
        "    earliest_timestamp = exchange.milliseconds()\n",
        "    timeframe_duration_in_seconds = exchange.parse_timeframe(timeframe)\n",
        "    timeframe_duration_in_ms = timeframe_duration_in_seconds * 1000\n",
        "    timedelta = limit * timeframe_duration_in_ms\n",
        "    all_ohlcv = []\n",
        "    while True:\n",
        "        fetch_since = earliest_timestamp - timedelta\n",
        "        ohlcv = retry_fetch_ohlcv(exchange, max_retries, symbol, timeframe, fetch_since, limit)\n",
        "        if ohlcv[0][0] >= earliest_timestamp:\n",
        "            break\n",
        "        earliest_timestamp = ohlcv[0][0]\n",
        "        all_ohlcv = ohlcv + all_ohlcv\n",
        "        print(len(all_ohlcv), 'candles in total from', exchange.iso8601(all_ohlcv[0][0]), 'to', exchange.iso8601(all_ohlcv[-1][0]))\n",
        "        if fetch_since < since:\n",
        "            break\n",
        "    return all_ohlcv"
      ],
      "execution_count": 0,
      "outputs": []
    },
    {
      "metadata": {
        "id": "OhYBkcQw2jH0",
        "colab_type": "code",
        "colab": {}
      },
      "cell_type": "code",
      "source": [
        "def retry_fetch_ohlcv(exchange, max_retries, symbol, timeframe, since, limit):\n",
        "    num_retries = 0\n",
        "    try:\n",
        "        num_retries += 1\n",
        "        ohlcv = exchange.fetch_ohlcv(symbol, timeframe, since)\n",
        "        return ohlcv\n",
        "    except Exception:\n",
        "        if num_retries > max_retries:\n",
        "            raise"
      ],
      "execution_count": 0,
      "outputs": []
    },
    {
      "metadata": {
        "id": "zQdpPFbs2jH8",
        "colab_type": "code",
        "colab": {}
      },
      "cell_type": "code",
      "source": [
        "def scrape_candles_to_csv(filename, exchange_id, max_retries, symbol, timeframe, since, limit):\n",
        "    exchange = getattr(ccxt, exchange_id)({\n",
        "        'enableRateLimit': True,\n",
        "    })\n",
        "    if isinstance(since, str):\n",
        "        since = exchange.parse8601(since)\n",
        "    exchange.load_markets()\n",
        "    ohlcv = scrape_ohlcv(exchange, max_retries, symbol, timeframe, since, limit)\n",
        "    key = 0\n",
        "    for candle in ohlcv:\n",
        "        epoch = int(candle[0]) / 1000\n",
        "        ohlcv[key][0] = datetime.utcfromtimestamp(epoch).strftime('%Y-%m-%d')\n",
        "        ohlcv[key][5] = int(candle[5])\n",
        "        ohlcv[key].append(ohlcv[key][5])\n",
        "        ohlcv[key][5] = ohlcv[key][4]\n",
        "        key += 1\n",
        "    ohlen = len(ohlcv)\n",
        "    pprint(\"num of candles: \"+ str(ohlen))\n",
        "    if ohlen > 399:\n",
        "        ohrem = ohlen - 399\n",
        "        pprint(\"removing: \"+str(ohrem))\n",
        "        ohlcv = ohlcv[ohrem:]\n",
        "    write_to_csv(filename, ohlcv)\n",
        "    print('Saved', len(ohlcv), 'candles from', exchange.iso8601(ohlcv[0][0]), 'to', exchange.iso8601(ohlcv[-1][0]), 'to', filename)"
      ],
      "execution_count": 0,
      "outputs": []
    },
    {
      "metadata": {
        "id": "eLv0Vd4R2jIC",
        "colab_type": "code",
        "outputId": "420c8dff-0bdd-4583-c031-364e00f6bb0a",
        "colab": {
          "base_uri": "https://localhost:8080/",
          "height": 191
        }
      },
      "cell_type": "code",
      "source": [
        "exchange = \"bitmex\"\n",
        "symbol = \"BTC/USD\"\n",
        "start_date = \"2019-04-01T00:00:00Z\"\n",
        "timeframe = \"1h\"\n",
        "outfile = \"/content/gdrive/My Drive/Colab Notebooks/ai-trader/data/btcusd-1h.csv\"\n",
        "\n",
        "\n",
        "scrape_candles_to_csv(outfile, exchange, 3, symbol, timeframe, start_date, 100)"
      ],
      "execution_count": 7,
      "outputs": [
        {
          "output_type": "stream",
          "text": [
            "100 candles in total from 2019-04-23T02:00:00.000Z to 2019-04-27T05:00:00.000Z\n",
            "200 candles in total from 2019-04-18T22:00:00.000Z to 2019-04-27T05:00:00.000Z\n",
            "300 candles in total from 2019-04-14T18:00:00.000Z to 2019-04-27T05:00:00.000Z\n",
            "400 candles in total from 2019-04-10T14:00:00.000Z to 2019-04-27T05:00:00.000Z\n",
            "500 candles in total from 2019-04-06T10:00:00.000Z to 2019-04-27T05:00:00.000Z\n",
            "600 candles in total from 2019-04-02T06:00:00.000Z to 2019-04-27T05:00:00.000Z\n",
            "700 candles in total from 2019-03-29T02:00:00.000Z to 2019-04-27T05:00:00.000Z\n",
            "'num of candles: 700'\n",
            "'removing: 301'\n",
            "Saved 399 candles from None to None to /content/gdrive/My Drive/Colab Notebooks/ai-trader/data/btcusd-1h.csv\n"
          ],
          "name": "stdout"
        }
      ]
    }
  ]
}